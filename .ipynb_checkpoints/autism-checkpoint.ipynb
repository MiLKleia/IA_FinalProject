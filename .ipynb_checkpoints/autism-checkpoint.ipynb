{
 "cells": [
  {
   "cell_type": "markdown",
   "id": "019e333e",
   "metadata": {
    "toc": true
   },
   "source": [
    "<h1>Table of Contents<span class=\"tocSkip\"></span></h1>\n",
    "<div class=\"toc\"><ul class=\"toc-item\"><li><span><a href=\"#Préparation-des-données\" data-toc-modified-id=\"Préparation-des-données-1\"><span class=\"toc-item-num\">1&nbsp;&nbsp;</span>Préparation des données</a></span></li><li><span><a href=\"#Satisfaction-de-contraintes\" data-toc-modified-id=\"Satisfaction-de-contraintes-2\"><span class=\"toc-item-num\">2&nbsp;&nbsp;</span>Satisfaction de contraintes</a></span><ul class=\"toc-item\"><li><span><a href=\"#Par-défintion\" data-toc-modified-id=\"Par-défintion-2.1\"><span class=\"toc-item-num\">2.1&nbsp;&nbsp;</span>Par défintion</a></span></li></ul></li><li><span><a href=\"#Machine-Learning\" data-toc-modified-id=\"Machine-Learning-3\"><span class=\"toc-item-num\">3&nbsp;&nbsp;</span>Machine Learning</a></span><ul class=\"toc-item\"><li><span><a href=\"#KNN\" data-toc-modified-id=\"KNN-3.1\"><span class=\"toc-item-num\">3.1&nbsp;&nbsp;</span>KNN</a></span></li><li><span><a href=\"#Random-Forrest\" data-toc-modified-id=\"Random-Forrest-3.2\"><span class=\"toc-item-num\">3.2&nbsp;&nbsp;</span>Random Forrest</a></span></li><li><span><a href=\"#MLP\" data-toc-modified-id=\"MLP-3.3\"><span class=\"toc-item-num\">3.3&nbsp;&nbsp;</span>MLP</a></span></li></ul></li></ul></div>"
   ]
  },
  {
   "cell_type": "code",
   "execution_count": 1,
   "id": "3022f170",
   "metadata": {},
   "outputs": [],
   "source": [
    "# IMPORT\n",
    "import pandas as pd\n",
    "import numpy as np\n",
    "import random\n",
    "import matplotlib.pyplot as plt\n",
    "import math\n",
    "import sklearn\n",
    "import random as rand\n",
    "import time\n",
    "import networkx as nx\n",
    "import json\n",
    "\n",
    "\n",
    "from sklearn import datasets\n",
    "from tqdm import tqdm\n",
    "from sklearn.model_selection import train_test_split\n",
    "from sklearn.neighbors import KNeighborsClassifier\n",
    "from sklearn.linear_model import Perceptron\n",
    "from sklearn.neural_network import MLPClassifier"
   ]
  },
  {
   "cell_type": "code",
   "execution_count": 2,
   "id": "cefefb6b",
   "metadata": {},
   "outputs": [],
   "source": [
    "\n",
    "def accuracy(y_true, y_pred):\n",
    "    accuracy = np.sum(y_true == y_pred) / len(y_true)\n",
    "    return accuracy\n",
    "\n",
    "def precision(test, obtained, positive, negative):\n",
    "    u = len(test)\n",
    "    TP = 0\n",
    "    FP = 0\n",
    "    for i in range(u):\n",
    "        if obtained[i] == positive and test[i] == positive :\n",
    "            TP = TP +1\n",
    "        elif obtained[i] == positive and test[i] == negative :\n",
    "            FP = FP +1\n",
    "    out = TP / (TP + FP +0.001) \n",
    "    return out\n",
    "\n",
    "\n",
    "def recall(test, obtained, positive, negative):\n",
    "    u = len(test)\n",
    "    TP = 0\n",
    "    FN = 0\n",
    "    for i in range(u):\n",
    "        if obtained[i] == positive and test[i] == positive :\n",
    "            TP = TP +1\n",
    "        elif obtained[i] == negative and test[i] == positive :\n",
    "            FN = FN +1\n",
    "    out = TP / (TP + FN +0.001) \n",
    "    return out\n",
    "\n",
    "\n",
    "def f1_score(test, obtained, positive, negative):\n",
    "    pre = precision(test, obtained, positive, negative)\n",
    "    rec = recall(test, obtained, positive, negative)\n",
    "    out = 2 * (pre * rec)/(pre + rec +0.001)\n",
    "    return out"
   ]
  },
  {
   "cell_type": "markdown",
   "id": "22864b2d",
   "metadata": {},
   "source": [
    "# Préparation des données"
   ]
  },
  {
   "cell_type": "code",
   "execution_count": 9,
   "id": "8343ce7c",
   "metadata": {},
   "outputs": [
    {
     "data": {
      "text/html": [
       "<div>\n",
       "<style scoped>\n",
       "    .dataframe tbody tr th:only-of-type {\n",
       "        vertical-align: middle;\n",
       "    }\n",
       "\n",
       "    .dataframe tbody tr th {\n",
       "        vertical-align: top;\n",
       "    }\n",
       "\n",
       "    .dataframe thead th {\n",
       "        text-align: right;\n",
       "    }\n",
       "</style>\n",
       "<table border=\"1\" class=\"dataframe\">\n",
       "  <thead>\n",
       "    <tr style=\"text-align: right;\">\n",
       "      <th></th>\n",
       "      <th>A0</th>\n",
       "      <th>A1</th>\n",
       "      <th>A2</th>\n",
       "      <th>A3</th>\n",
       "      <th>A4</th>\n",
       "      <th>A5</th>\n",
       "      <th>A6</th>\n",
       "      <th>A7</th>\n",
       "      <th>A8</th>\n",
       "      <th>A9</th>\n",
       "      <th>...</th>\n",
       "      <th>gender</th>\n",
       "      <th>ethnicity</th>\n",
       "      <th>jundice</th>\n",
       "      <th>autsim</th>\n",
       "      <th>country_o_res</th>\n",
       "      <th>used_app_before</th>\n",
       "      <th>result</th>\n",
       "      <th>age_desc</th>\n",
       "      <th>relation</th>\n",
       "      <th>class/ASD</th>\n",
       "    </tr>\n",
       "  </thead>\n",
       "  <tbody>\n",
       "    <tr>\n",
       "      <th>0</th>\n",
       "      <td>1</td>\n",
       "      <td>1</td>\n",
       "      <td>1</td>\n",
       "      <td>1</td>\n",
       "      <td>0</td>\n",
       "      <td>0</td>\n",
       "      <td>1</td>\n",
       "      <td>1</td>\n",
       "      <td>0</td>\n",
       "      <td>0</td>\n",
       "      <td>...</td>\n",
       "      <td>f</td>\n",
       "      <td>White-European</td>\n",
       "      <td>no</td>\n",
       "      <td>no</td>\n",
       "      <td>'United States'</td>\n",
       "      <td>no</td>\n",
       "      <td>6</td>\n",
       "      <td>'18 and more'</td>\n",
       "      <td>Self</td>\n",
       "      <td>NO</td>\n",
       "    </tr>\n",
       "    <tr>\n",
       "      <th>1</th>\n",
       "      <td>1</td>\n",
       "      <td>1</td>\n",
       "      <td>0</td>\n",
       "      <td>1</td>\n",
       "      <td>0</td>\n",
       "      <td>0</td>\n",
       "      <td>0</td>\n",
       "      <td>1</td>\n",
       "      <td>0</td>\n",
       "      <td>1</td>\n",
       "      <td>...</td>\n",
       "      <td>m</td>\n",
       "      <td>Latino</td>\n",
       "      <td>no</td>\n",
       "      <td>yes</td>\n",
       "      <td>Brazil</td>\n",
       "      <td>no</td>\n",
       "      <td>5</td>\n",
       "      <td>'18 and more'</td>\n",
       "      <td>Self</td>\n",
       "      <td>NO</td>\n",
       "    </tr>\n",
       "    <tr>\n",
       "      <th>2</th>\n",
       "      <td>1</td>\n",
       "      <td>1</td>\n",
       "      <td>0</td>\n",
       "      <td>1</td>\n",
       "      <td>1</td>\n",
       "      <td>0</td>\n",
       "      <td>1</td>\n",
       "      <td>1</td>\n",
       "      <td>1</td>\n",
       "      <td>1</td>\n",
       "      <td>...</td>\n",
       "      <td>m</td>\n",
       "      <td>Latino</td>\n",
       "      <td>yes</td>\n",
       "      <td>yes</td>\n",
       "      <td>Spain</td>\n",
       "      <td>no</td>\n",
       "      <td>8</td>\n",
       "      <td>'18 and more'</td>\n",
       "      <td>Parent</td>\n",
       "      <td>YES</td>\n",
       "    </tr>\n",
       "    <tr>\n",
       "      <th>3</th>\n",
       "      <td>1</td>\n",
       "      <td>1</td>\n",
       "      <td>0</td>\n",
       "      <td>1</td>\n",
       "      <td>0</td>\n",
       "      <td>0</td>\n",
       "      <td>1</td>\n",
       "      <td>1</td>\n",
       "      <td>0</td>\n",
       "      <td>1</td>\n",
       "      <td>...</td>\n",
       "      <td>f</td>\n",
       "      <td>White-European</td>\n",
       "      <td>no</td>\n",
       "      <td>yes</td>\n",
       "      <td>'United States'</td>\n",
       "      <td>no</td>\n",
       "      <td>6</td>\n",
       "      <td>'18 and more'</td>\n",
       "      <td>Self</td>\n",
       "      <td>NO</td>\n",
       "    </tr>\n",
       "    <tr>\n",
       "      <th>4</th>\n",
       "      <td>1</td>\n",
       "      <td>0</td>\n",
       "      <td>0</td>\n",
       "      <td>0</td>\n",
       "      <td>0</td>\n",
       "      <td>0</td>\n",
       "      <td>0</td>\n",
       "      <td>1</td>\n",
       "      <td>0</td>\n",
       "      <td>0</td>\n",
       "      <td>...</td>\n",
       "      <td>f</td>\n",
       "      <td>?</td>\n",
       "      <td>no</td>\n",
       "      <td>no</td>\n",
       "      <td>Egypt</td>\n",
       "      <td>no</td>\n",
       "      <td>2</td>\n",
       "      <td>'18 and more'</td>\n",
       "      <td>?</td>\n",
       "      <td>NO</td>\n",
       "    </tr>\n",
       "  </tbody>\n",
       "</table>\n",
       "<p>5 rows × 21 columns</p>\n",
       "</div>"
      ],
      "text/plain": [
       "   A0  A1  A2  A3  A4  A5  A6  A7  A8  A9  ... gender       ethnicity jundice  \\\n",
       "0   1   1   1   1   0   0   1   1   0   0  ...      f  White-European      no   \n",
       "1   1   1   0   1   0   0   0   1   0   1  ...      m          Latino      no   \n",
       "2   1   1   0   1   1   0   1   1   1   1  ...      m          Latino     yes   \n",
       "3   1   1   0   1   0   0   1   1   0   1  ...      f  White-European      no   \n",
       "4   1   0   0   0   0   0   0   1   0   0  ...      f               ?      no   \n",
       "\n",
       "  autsim    country_o_res used_app_before result       age_desc relation  \\\n",
       "0     no  'United States'              no      6  '18 and more'     Self   \n",
       "1    yes           Brazil              no      5  '18 and more'     Self   \n",
       "2    yes            Spain              no      8  '18 and more'   Parent   \n",
       "3    yes  'United States'              no      6  '18 and more'     Self   \n",
       "4     no            Egypt              no      2  '18 and more'        ?   \n",
       "\n",
       "  class/ASD  \n",
       "0        NO  \n",
       "1        NO  \n",
       "2       YES  \n",
       "3        NO  \n",
       "4        NO  \n",
       "\n",
       "[5 rows x 21 columns]"
      ]
     },
     "execution_count": 9,
     "metadata": {},
     "output_type": "execute_result"
    }
   ],
   "source": [
    "    \n",
    "\n",
    "Data_Autism = pd.read_csv('data.csv', on_bad_lines='skip') \n",
    "\n",
    "\n",
    "np_Data_Autism = Data_Autism.to_numpy()\n",
    "u, v = np_Data_Autism.shape\n",
    "num_Data_Autism = np.zeros((u,v))  \n",
    "\n",
    "#We are doing this by column\n",
    "for j in range(v) :\n",
    "    line = pd.unique(np_Data_Autism[:, j ])\n",
    "    size = len(line)\n",
    "    for i in range(u) :\n",
    "        if isinstance(np_Data_Autism[i,j], int) or isinstance(np_Data_Autism[i,j], float) :\n",
    "            if math.isnan(np_Data_Autism[i,j]) :\n",
    "                num_Data_Autism[i,j] = 1000 #nan values, we need int to use the functions\n",
    "            else :\n",
    "                num_Data_Autism[i,j] = np_Data_Autism[i,j]\n",
    "        elif np_Data_Autism[i,j].isdigit() : \n",
    "            num_Data_Autism[i,j] = np_Data_Autism[i,j]    \n",
    "        else :\n",
    "            # only non-number value need to be parametrise\n",
    "            # we replace by (-1) * the place in np.unique()\n",
    "            for index in range(size):\n",
    "                if np_Data_Autism[i,j] == line[index] :\n",
    "                    num_Data_Autism[i,j] =  index # modify st y is either 0 or 1\n",
    "                    #standardisation : if it is a parametrise value, then it is negative\n",
    "\n",
    "Data_Autism.head()"
   ]
  },
  {
   "cell_type": "code",
   "execution_count": 6,
   "id": "48d251de",
   "metadata": {},
   "outputs": [],
   "source": [
    "np.random.shuffle(num_Data_Autism)\n",
    "\n",
    "#Tout ce qui n'est pas y\n",
    "x_R = num_Data_Autism[:,1:13]\n",
    "x_L = num_Data_Autism[:,15:]\n",
    "X = np.concatenate((x_R, x_L), axis=1)\n",
    "\n",
    "# juste les données liées au comportement\n",
    "X = num_Data_Autism[:,0:10]  \n",
    "\n",
    "y = num_Data_Autism[:,14]\n",
    "\n",
    "au_X_tr, au_X_te, au_y_tr, au_y_te = train_test_split( X, y, test_size=0.3, random_state=42)\n"
   ]
  },
  {
   "cell_type": "markdown",
   "id": "cc362c4f",
   "metadata": {},
   "source": [
    "# Satisfaction de contraintes\n",
    "\n",
    "## Par défintion"
   ]
  },
  {
   "cell_type": "code",
   "execution_count": 16,
   "id": "e2e79284",
   "metadata": {},
   "outputs": [],
   "source": [
    "def csp_def(dataX):\n",
    "    u,v = dataX.shape\n",
    "    dataY = np.zeros(u)\n",
    "    \n",
    "    for i in range(u):\n",
    "        if sum(dataX[i,:]) > 6 :\n",
    "            dataY[i] = 1\n",
    "    return dataY\n"
   ]
  },
  {
   "cell_type": "code",
   "execution_count": 18,
   "id": "1a134fed",
   "metadata": {},
   "outputs": [
    {
     "name": "stdout",
     "output_type": "stream",
     "text": [
      "There are  510  right guess out of  704  which is equal to  72.44318181818183 % of right answers.\n",
      "precision  :  0.4725222799749453 \n",
      "recall :  0.2275120237459061 \n",
      "F1 score :  0.3067025382681907\n"
     ]
    }
   ],
   "source": [
    "#print(csp_def(X))\n",
    "csp_test_Y = csp_def(X)\n",
    "\n",
    "u, v = X.shape\n",
    "count = 0\n",
    "for i in range(u):\n",
    "    if csp_test_Y[i] == y[i]:\n",
    "        count = count +1\n",
    "\n",
    "\n",
    "\n",
    "\n",
    "pro = count/u\n",
    "pre = precision(csp_test_Y, y, 1,0)\n",
    "rec = recall(csp_test_Y, y,1,0)\n",
    "f1_ = f1_score(csp_test_Y, y, 1,0)\n",
    "\n",
    "print('There are ', count,' right guess out of ', u,' which is equal to ', pro*100, '% of right answers.')\n",
    "print('precision  : ', pre,'\\nrecall : ', rec, '\\nF1 score : ',f1_)"
   ]
  },
  {
   "cell_type": "markdown",
   "id": "e192acf3",
   "metadata": {},
   "source": [
    "# Machine Learning\n",
    "\n",
    "## KNN"
   ]
  },
  {
   "cell_type": "code",
   "execution_count": 19,
   "id": "90b6a34a",
   "metadata": {},
   "outputs": [
    {
     "data": {
      "text/plain": [
       "KNeighborsClassifier(n_neighbors=7)"
      ]
     },
     "execution_count": 19,
     "metadata": {},
     "output_type": "execute_result"
    }
   ],
   "source": [
    "neigh = KNeighborsClassifier(n_neighbors=7)\n",
    "neigh.fit(au_X_tr, au_y_tr)"
   ]
  },
  {
   "cell_type": "code",
   "execution_count": 20,
   "id": "ac58ea21",
   "metadata": {},
   "outputs": [
    {
     "name": "stdout",
     "output_type": "stream",
     "text": [
      "Il y a  212  training data et  212  testing data.\n",
      "There are  183  right guess out of  212  which is equal to  86.32075471698113 % of right answers.\n",
      "precision  :  0.9990009990009991 \n",
      "recall :  0.033332222259258026 \n",
      "F1 score :  0.0644495360273245\n"
     ]
    }
   ],
   "source": [
    "prd_au_y = neigh.predict(au_X_te)\n",
    "\n",
    "\n",
    "u, v = au_X_te.shape\n",
    "count = 0\n",
    "for i in range(u):\n",
    "    if prd_au_y[i] == au_y_te[i]:\n",
    "        count = count +1\n",
    "\n",
    "\n",
    "\n",
    "\n",
    "pro = count/u\n",
    "pre = precision(au_y_te, prd_au_y, 1,0)\n",
    "rec = recall(au_y_te, prd_au_y, 1,0)\n",
    "f1_ = f1_score(au_y_te, prd_au_y, 1,0)\n",
    "\n",
    "\n",
    "print('Il y a ', len(au_y_te),' training data et ', len(au_y_te), ' testing data.')\n",
    "print('There are ', count,' right guess out of ', u,' which is equal to ', pro*100, '% of right answers.')\n",
    "print('precision  : ', pre,'\\nrecall : ', rec, '\\nF1 score : ',f1_)"
   ]
  },
  {
   "cell_type": "markdown",
   "id": "2cb321ad",
   "metadata": {},
   "source": [
    "## Random Forrest"
   ]
  },
  {
   "cell_type": "code",
   "execution_count": 21,
   "id": "16b8477c",
   "metadata": {},
   "outputs": [
    {
     "data": {
      "text/plain": [
       "RandomForestClassifier(max_depth=10, random_state=0)"
      ]
     },
     "execution_count": 21,
     "metadata": {},
     "output_type": "execute_result"
    }
   ],
   "source": [
    "from sklearn.ensemble import RandomForestClassifier\n",
    "clf = RandomForestClassifier(max_depth=10, random_state=0)\n",
    "clf.fit(au_X_tr, au_y_tr)"
   ]
  },
  {
   "cell_type": "code",
   "execution_count": 22,
   "id": "965bf665",
   "metadata": {},
   "outputs": [
    {
     "name": "stdout",
     "output_type": "stream",
     "text": [
      "Il y a  212  training data et  212  testing data.\n",
      "There are  178  right guess out of  212  which is equal to  83.9622641509434 % of right answers.\n",
      "precision  :  0.3333055578701775 \n",
      "recall :  0.1333288890370321 \n",
      "F1 score :  0.1900598214464592\n"
     ]
    }
   ],
   "source": [
    "prd_au_y = clf.predict(au_X_te)\n",
    "\n",
    "\n",
    "u, v = au_X_te.shape\n",
    "count = 0\n",
    "for i in range(u):\n",
    "    if prd_au_y[i] == au_y_te[i]:\n",
    "        count = count +1\n",
    "\n",
    "\n",
    "\n",
    "\n",
    "pro = count/u\n",
    "pre = precision(au_y_te, prd_au_y, 1,0)\n",
    "rec = recall(au_y_te, prd_au_y,1,0)\n",
    "f1_ = f1_score(au_y_te, prd_au_y, 1,0)\n",
    "\n",
    "\n",
    "print('Il y a ', len(au_y_te),' training data et ', len(au_y_te), ' testing data.')\n",
    "print('There are ', count,' right guess out of ', u,' which is equal to ', pro*100, '% of right answers.')\n",
    "print('precision  : ', pre,'\\nrecall : ', rec, '\\nF1 score : ',f1_)"
   ]
  },
  {
   "cell_type": "markdown",
   "id": "e004b9a1",
   "metadata": {},
   "source": [
    "## MLP"
   ]
  },
  {
   "cell_type": "code",
   "execution_count": 23,
   "id": "1ecdf2f0",
   "metadata": {},
   "outputs": [
    {
     "name": "stdout",
     "output_type": "stream",
     "text": [
      "Il y a  212  training data et  212  testing data.\n",
      "There are  178  right guess out of  212  which is equal to  83.9622641509434 % of right answers.\n",
      "precision  :  0.3333055578701775 \n",
      "recall :  0.1333288890370321 \n",
      "F1 score :  0.1900598214464592\n"
     ]
    },
    {
     "name": "stderr",
     "output_type": "stream",
     "text": [
      "/home/nes/.local/lib/python3.8/site-packages/sklearn/neural_network/_multilayer_perceptron.py:692: ConvergenceWarning: Stochastic Optimizer: Maximum iterations (200) reached and the optimization hasn't converged yet.\n",
      "  warnings.warn(\n"
     ]
    }
   ],
   "source": [
    "\n",
    "hid_l =[10, 10, 10]  # MODIFY THIS; DON T TOUCH THE REST\n",
    "\n",
    "time_start = time.time()\n",
    "\n",
    "clf = MLPClassifier(learning_rate_init= 0.0001, alpha=1e-05, hidden_layer_sizes=hid_l)\n",
    "clf.fit(au_X_tr, au_y_tr)\n",
    "MLPClassifier(learning_rate_init= 0.0001, alpha=1e-05, hidden_layer_sizes=hid_l)\n",
    "prd_mush_y = clf.predict(au_X_te)\n",
    "\n",
    "time_elapsed = (time.time() - time_start)\n",
    "\n",
    "u, v = au_X_te.shape\n",
    "count = 0\n",
    "for i in range(u):\n",
    "    if prd_au_y[i] == au_y_te[i]:\n",
    "        count = count +1\n",
    "\n",
    "\n",
    "\n",
    "\n",
    "pro = count/u\n",
    "pre = precision(au_y_te, prd_au_y, 1,0)\n",
    "rec = recall(au_y_te, prd_au_y,1,0)\n",
    "f1_ = f1_score(au_y_te, prd_au_y,1,0)\n",
    "\n",
    "\n",
    "print('Il y a ', len(au_y_te),' training data et ', len(au_y_te), ' testing data.')\n",
    "print('There are ', count,' right guess out of ', u,' which is equal to ', pro*100, '% of right answers.')\n",
    "print('precision  : ', pre,'\\nrecall : ', rec, '\\nF1 score : ',f1_)"
   ]
  },
  {
   "cell_type": "code",
   "execution_count": null,
   "id": "5a959f4f",
   "metadata": {},
   "outputs": [],
   "source": []
  }
 ],
 "metadata": {
  "kernelspec": {
   "display_name": "Python 3 (ipykernel)",
   "language": "python",
   "name": "python3"
  },
  "language_info": {
   "codemirror_mode": {
    "name": "ipython",
    "version": 3
   },
   "file_extension": ".py",
   "mimetype": "text/x-python",
   "name": "python",
   "nbconvert_exporter": "python",
   "pygments_lexer": "ipython3",
   "version": "3.8.10"
  },
  "toc": {
   "base_numbering": 1,
   "nav_menu": {},
   "number_sections": true,
   "sideBar": true,
   "skip_h1_title": false,
   "title_cell": "Table of Contents",
   "title_sidebar": "Contents",
   "toc_cell": true,
   "toc_position": {
    "height": "calc(100% - 180px)",
    "left": "10px",
    "top": "150px",
    "width": "261px"
   },
   "toc_section_display": true,
   "toc_window_display": true
  }
 },
 "nbformat": 4,
 "nbformat_minor": 5
}
